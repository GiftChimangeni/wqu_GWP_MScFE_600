{
 "cells": [
  {
   "cell_type": "code",
   "execution_count": 7,
   "id": "d92e792d-cb5f-4bc7-824f-144ae4689c87",
   "metadata": {},
   "outputs": [],
   "source": [
    "import datetime\n",
    "\n",
    "import numpy as np\n",
    "import pandas as pd\n",
    "import pandas_datareader.data as web\n",
    "import seaborn as sns\n",
    "import yfinance as yfin\n",
    "from scipy import stats\n",
    "#yfin.pdr_override() #we need this to get data from Yahoo!Finance\n",
    "#from pandas_datareader.famafrench import get_available_datasets"
   ]
  },
  {
   "cell_type": "code",
   "execution_count": null,
   "id": "7ede1ba9-30f6-43d5-b518-e31e857812ba",
   "metadata": {},
   "outputs": [],
   "source": [
    "# SECURITIES\n",
    "# scenario 1: loan for a credit card (unsecured)\n",
    "# scenario 2: loan for a house in California (collateral is the house)\n",
    "# scenario 3: loan to a construction company (collateral is the building under construction, but not the land)\n",
    "# scenario 4: snp500 index\n",
    "# scenario 5: treasury bond (e.g. 30y)\n",
    "# scenario 6: illiquid corporate bond of high quality company (choose a company)"
   ]
  },
  {
   "cell_type": "code",
   "execution_count": null,
   "id": "f3c5e79a-5d1e-4f88-b7b0-c87440ff980d",
   "metadata": {},
   "outputs": [],
   "source": [
    "# DATASETS\n",
    "# scenario 1: delinquency rates on credit cards https://fred.stlouisfed.org/series/DRCCLACBS\n",
    "# scenario 2: average 30y mortgage rate https://fred.stlouisfed.org/series/MORTGAGE30US \n",
    "# and mortgage delinquency rate https://fred.stlouisfed.org/series/Q09084USQ507NNBR\n",
    "# and house price index for California https://fred.stlouisfed.org/series/CASTHPI\n",
    "# scenario 3: building material prices https://fred.stlouisfed.org/series/PCU44414441\n",
    "# scenario 4: publicly traded equity: snp500 (fred)\n",
    "# scenario 5: treasury bond 30y yield (get from Yahoo?)\n",
    "# scenario 6: https://fred.stlouisfed.org/series/DAAA <- proxy for high quality illiquid bond (fred)"
   ]
  },
  {
   "cell_type": "code",
   "execution_count": null,
   "id": "177e851b-0765-422d-8496-a51b01a9fd02",
   "metadata": {},
   "outputs": [],
   "source": [
    "# IDEA\n",
    "# WE NEED TO BUY A TREASURY BOND TO LEND IN SCENARIO 5. IT WILL BE RETURNED TO US LATER. IN THE MEANTIME ITS PRICE MOVED.\n",
    "# IF ITS PRICE WENT DOWN (YIELD GOES UP), WE WILL LOSE MONEY. ON THE OTHER HAND, IF YIELD GOES UP, INTEREST RATES GO UP,\n",
    "# AND SO LIKELY DELINQUENCY RATES ON CREDIT CARDS WILL GO UP (WE NEED TO PROVE THIS WITH A SCATTER PLOT AND CORRELATION VALUE).\n",
    "# BUT THIS ALSO MEANS WE WILL HAVE HIGHER CREDIT RISK IN SCENARIO 1. AT THE SAME TIME, AS RATES RISE, MORTGAGE DELINQUENCY RATES\n",
    "# MIGHT GO UP AND HOUSE PRICES DROP, WHICH MAKES THE COLLATERAL IN SCENARIO 2 GO DOWN AND CREDIT RISK GO UP. SO THE PROBLEMS ARE SNOWBALLING.\n",
    "# IN SCENARIO 6 WE ARE LESS WORRIED BECAUSE DUE TO THE ILLIQUID NATURE OF THE BOND, WE WILL LIKELY CHOOSE NOT LIQUIDATE IT AND TO WAIT\n",
    "# UNTIL ITS MATURITY AND COLLECT THE COUPONS. IN SCENARIO 4, SNP500 INDEX MIGHT GO DOWN WITH INTEREST RATES (TO BE CHECKED), AND IT\n",
    "# WOULD BE INTERESTING TO ANALYSE ITS DISTRIBUTION OF RETURNS WITH A HISTORGRAM AND HOW FAR IT IS FROM A NORMAL DISTRIBUTION (CALCULATE SKEW AND KURT).\n",
    "# I'M NOT SURE ABOUT SCENARIO 3, BUT I WAS THINKING THAT BUILDING MATERIALS GOING UP IN PRICE IS BAD AS IT IS LESS LIKELY THE\n",
    "# CONSTRUCTION COMPANY WILL SUCCESSFULLY FINISH THE BUILDING.\n"
   ]
  },
  {
   "cell_type": "code",
   "execution_count": 19,
   "id": "edd1d1b8-27e3-4723-803a-5295ba96ab32",
   "metadata": {},
   "outputs": [
    {
     "data": {
      "text/html": [
       "<div>\n",
       "<style scoped>\n",
       "    .dataframe tbody tr th:only-of-type {\n",
       "        vertical-align: middle;\n",
       "    }\n",
       "\n",
       "    .dataframe tbody tr th {\n",
       "        vertical-align: top;\n",
       "    }\n",
       "\n",
       "    .dataframe thead th {\n",
       "        text-align: right;\n",
       "    }\n",
       "</style>\n",
       "<table border=\"1\" class=\"dataframe\">\n",
       "  <thead>\n",
       "    <tr style=\"text-align: right;\">\n",
       "      <th></th>\n",
       "      <th>sp500</th>\n",
       "      <th>DAAA</th>\n",
       "    </tr>\n",
       "    <tr>\n",
       "      <th>DATE</th>\n",
       "      <th></th>\n",
       "      <th></th>\n",
       "    </tr>\n",
       "  </thead>\n",
       "  <tbody>\n",
       "    <tr>\n",
       "      <th>2014-01-06</th>\n",
       "      <td>1826.77</td>\n",
       "      <td>4.53</td>\n",
       "    </tr>\n",
       "    <tr>\n",
       "      <th>2014-01-07</th>\n",
       "      <td>1837.88</td>\n",
       "      <td>4.51</td>\n",
       "    </tr>\n",
       "    <tr>\n",
       "      <th>2014-01-08</th>\n",
       "      <td>1837.49</td>\n",
       "      <td>4.53</td>\n",
       "    </tr>\n",
       "    <tr>\n",
       "      <th>2014-01-09</th>\n",
       "      <td>1838.13</td>\n",
       "      <td>4.56</td>\n",
       "    </tr>\n",
       "    <tr>\n",
       "      <th>2014-01-10</th>\n",
       "      <td>1842.37</td>\n",
       "      <td>4.50</td>\n",
       "    </tr>\n",
       "    <tr>\n",
       "      <th>2014-01-13</th>\n",
       "      <td>1819.20</td>\n",
       "      <td>4.47</td>\n",
       "    </tr>\n",
       "    <tr>\n",
       "      <th>2014-01-14</th>\n",
       "      <td>1838.88</td>\n",
       "      <td>4.50</td>\n",
       "    </tr>\n",
       "    <tr>\n",
       "      <th>2014-01-15</th>\n",
       "      <td>1848.38</td>\n",
       "      <td>4.50</td>\n",
       "    </tr>\n",
       "    <tr>\n",
       "      <th>2014-01-16</th>\n",
       "      <td>1845.89</td>\n",
       "      <td>4.48</td>\n",
       "    </tr>\n",
       "    <tr>\n",
       "      <th>2014-01-17</th>\n",
       "      <td>1838.70</td>\n",
       "      <td>4.47</td>\n",
       "    </tr>\n",
       "  </tbody>\n",
       "</table>\n",
       "</div>"
      ],
      "text/plain": [
       "              sp500  DAAA\n",
       "DATE                     \n",
       "2014-01-06  1826.77  4.53\n",
       "2014-01-07  1837.88  4.51\n",
       "2014-01-08  1837.49  4.53\n",
       "2014-01-09  1838.13  4.56\n",
       "2014-01-10  1842.37  4.50\n",
       "2014-01-13  1819.20  4.47\n",
       "2014-01-14  1838.88  4.50\n",
       "2014-01-15  1848.38  4.50\n",
       "2014-01-16  1845.89  4.48\n",
       "2014-01-17  1838.70  4.47"
      ]
     },
     "execution_count": 19,
     "metadata": {},
     "output_type": "execute_result"
    }
   ],
   "source": [
    "end = datetime.date(2024,1,4)#datetime.date(2021, 11, 20)\n",
    "start = end - datetime.timedelta(365 * 10)\n",
    "df = web.DataReader([\"sp500\", \"DAAA\"], \"fred\", start, end)\n",
    "df.head(10)"
   ]
  },
  {
   "cell_type": "code",
   "execution_count": null,
   "id": "2c9a828b-79be-462c-9b6c-302b2d24414c",
   "metadata": {},
   "outputs": [],
   "source": []
  }
 ],
 "metadata": {
  "kernelspec": {
   "display_name": "Python 3 (ipykernel)",
   "language": "python",
   "name": "python3"
  },
  "language_info": {
   "codemirror_mode": {
    "name": "ipython",
    "version": 3
   },
   "file_extension": ".py",
   "mimetype": "text/x-python",
   "name": "python",
   "nbconvert_exporter": "python",
   "pygments_lexer": "ipython3",
   "version": "3.12.0"
  }
 },
 "nbformat": 4,
 "nbformat_minor": 5
}
